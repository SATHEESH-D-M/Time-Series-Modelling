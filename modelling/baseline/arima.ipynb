{
 "cells": [
  {
   "cell_type": "code",
   "execution_count": 3,
   "id": "ec1ab22c",
   "metadata": {},
   "outputs": [
    {
     "name": "stderr",
     "output_type": "stream",
     "text": [
      "2025/04/12 11:33:33 INFO mlflow.tracking.fluent: Experiment with name 'NTPC-Arima-Model' does not exist. Creating a new experiment.\n"
     ]
    },
    {
     "data": {
      "text/plain": [
       "<Experiment: artifact_location='mlflow-artifacts:/625849743153014595', creation_time=1744437813328, experiment_id='625849743153014595', last_update_time=1744437813328, lifecycle_stage='active', name='NTPC-Arima-Model', tags={}>"
      ]
     },
     "execution_count": 3,
     "metadata": {},
     "output_type": "execute_result"
    }
   ],
   "source": [
    "# connect to mlflow server\n",
    "import mlflow\n",
    "\n",
    "mlflow.set_tracking_uri(\"http://127.0.0.1:5000\")\n",
    "\n",
    "mlflow.set_experiment(\"NTPC-Arima-Model\")"
   ]
  },
  {
   "cell_type": "code",
   "execution_count": null,
   "id": "c45756f3",
   "metadata": {},
   "outputs": [],
   "source": [
    "# Set up logging to a file\n",
    "import logging\n",
    "import os\n",
    "\n",
    "# Get current working directory\n",
    "log_file_path = os.path.join(os.getcwd(), 'mlflow_run.log')\n",
    "\n",
    "# Set up the logger manually\n",
    "logger = logging.getLogger()\n",
    "logger.setLevel(logging.INFO)\n",
    "\n",
    "# Remove all previous handlers (important in Jupyter)\n",
    "logger.handlers.clear()\n",
    "\n",
    "# Create and add FileHandler\n",
    "file_handler = logging.FileHandler(log_file_path, mode='w')\n",
    "formatter = logging.Formatter('%(asctime)s - %(levelname)s - %(message)s')\n",
    "file_handler.setFormatter(formatter)\n",
    "logger.addHandler(file_handler)\n",
    "\n",
    "# Optional: also log to console\n",
    "console_handler = logging.StreamHandler()\n",
    "console_handler.setFormatter(formatter)\n",
    "logger.addHandler(console_handler)"
   ]
  },
  {
   "cell_type": "code",
   "execution_count": null,
   "id": "366e4dcc",
   "metadata": {},
   "outputs": [],
   "source": [
    "# library import\n",
    "import pandas as pd\n",
    "import numpy as np\n",
    "import matplotlib.pyplot as plt\n",
    "import seaborn as sns\n",
    "from sklearn.model_selection import train_test_split\n",
    "\n",
    "seed_value = 42\n",
    "np.random.seed(seed_value)"
   ]
  }
 ],
 "metadata": {
  "kernelspec": {
   "display_name": "MCV",
   "language": "python",
   "name": "python3"
  },
  "language_info": {
   "codemirror_mode": {
    "name": "ipython",
    "version": 3
   },
   "file_extension": ".py",
   "mimetype": "text/x-python",
   "name": "python",
   "nbconvert_exporter": "python",
   "pygments_lexer": "ipython3",
   "version": "3.11.11"
  }
 },
 "nbformat": 4,
 "nbformat_minor": 5
}
